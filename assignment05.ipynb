{
 "cells": [
  {
   "cell_type": "markdown",
   "metadata": {},
   "source": [
    "[1번 문제]\n",
    "클래스와 모듈의 공통점과 차이점에 대해 설명하시오.\n",
    "<br/>공통점 : 둘 다 이름 공간을 구성하여 데이터와 함수 등을 정의한다.\n",
    "<br/>차이점 : 클래스는 클래스 인스턴스를 만들어서 사용하며 클래스 영역 내에 이름공간을 구성하지만, 모듈은 import를 이용해며 파일 영역 내에 이름공간을 구성한다. "
   ]
  },
  {
   "cell_type": "code",
   "execution_count": 15,
   "metadata": {},
   "outputs": [
    {
     "name": "stdout",
     "output_type": "stream",
     "text": [
      "undefined\n",
      "40$\n",
      "55$\n",
      "1$\n",
      "100$\n"
     ]
    }
   ],
   "source": [
    "for each in (cloth(), pants(), hood(), socks(), jacket()):\n",
    "    each.cloth()\n",
    "\n",
    "class cloth():\n",
    "    def cloth(self):\n",
    "        print(\"undefined\")\n",
    "        \n",
    "class pants(cloth):\n",
    "    def cloth(self):\n",
    "        print(\"40$\")\n",
    "        \n",
    "class hood(cloth):\n",
    "    def cloth(self):\n",
    "        print(\"55$\")\n",
    "        \n",
    "class socks(cloth):\n",
    "    def cloth(self):\n",
    "        print(\"1$\")\n",
    "        \n",
    "class jacket(cloth):\n",
    "    def cloth(self):\n",
    "        print(\"100$\")\n",
    "        \n",
    "class table(cloth):\n",
    "    pass"
   ]
  },
  {
   "cell_type": "markdown",
   "metadata": {},
   "source": [
    "[2번 문제]\n",
    "다형성에 대해 설명하고 다형성을 보여주는 자신만의 파이썬 코드 예제를 제시하시오.\n",
    "\n",
    "다형성은 상속 관계 내의 다른 클래스들의 인스턴스들이 같은 멤버 함수 호출에 대해 각각 다르게 반응하도록 하는 기능으로 적은 코딩으로 다양한 객체들에게 유사한 작업을 수행시킬 수 있고 프로그램의 작성 코드량이 줄어들고 코드의 가독성을 높혀주는 장점이 있다. 그리고 실시간으로 객체의 형이 결정되므로 단 하나의 메소드에 의해 처리될 수 있는 객체의 종류에 제한이 없다. 그러므로 파이썬에 다형성을 이용하면 다른 언어보다 코드의 양이 줄어드는 효과를 볼 수 있다."
   ]
  },
  {
   "cell_type": "code",
   "execution_count": 16,
   "metadata": {},
   "outputs": [
    {
     "name": "stdout",
     "output_type": "stream",
     "text": [
      "[Count(step:1)] 10\n",
      "[Count(step:2)] 10\n",
      "\n",
      "[Count(step:1)] 11\n",
      "[Count(step:2)] 12\n",
      "\n",
      "[Count(step:1)] 12\n",
      "[Count(step:2)] 14\n",
      "\n",
      "[Count(step:1)] 17\n",
      "[Count(step:2)] 9\n",
      "\n",
      "True\n",
      "False\n",
      "False\n",
      "True\n",
      "True\n",
      "False\n"
     ]
    }
   ],
   "source": [
    "class Counter:\n",
    "    def __init__(self, count, step = 1):\n",
    "        self.count = count\n",
    "        self.step = step\n",
    "    def __str__(self):\n",
    "        return \"[Count(step:{0})] {1}\".format(self.step,self.count)\n",
    "    def incr(self):\n",
    "        self.count += self.step\n",
    "    def __call__(self):\n",
    "        return self.incr()\n",
    "    def __add__(self, a):\n",
    "        self.count += a\n",
    "        return self\n",
    "    def __sub__(self, a):\n",
    "        self.count -= a\n",
    "        return self\n",
    "    def __lt__(self, a):\n",
    "        return self.count < a\n",
    "    def __eq__(self, a):\n",
    "        return self.count == a\n",
    "    def __ne__(self, a):\n",
    "        return self.count != a\n",
    "    def __gt__(self, a):\n",
    "        return self.count > a\n",
    "\n",
    "c = Counter(10)\n",
    "d = Counter(10, 2)\n",
    "print(c)\n",
    "print(d)\n",
    "print()\n",
    "c.incr()\n",
    "d.incr()\n",
    "print(c)\n",
    "print(d)\n",
    "print()\n",
    "c()\n",
    "d()\n",
    "print(c)\n",
    "print(d)\n",
    "print()\n",
    "c = c + 5\n",
    "d = d - 5\n",
    "print(c)\n",
    "print(d)\n",
    "print()\n",
    "print(c > 10)\n",
    "print(d > 10)\n",
    "print(c < 10)\n",
    "print(d < 10)\n",
    "print(c == 17)\n",
    "print(d != 9)"
   ]
  },
  {
   "cell_type": "markdown",
   "metadata": {},
   "source": [
    "[3번 문제]\n",
    "다음 각 요구사항 모두를 만족시키는 Counter 클래스를 코딩하시오 (정답을 각 요구사항별로 입력할 필요 없이 3번 문제에 대해 1개의 클래스 정의 코드를 제시하면 된다.)\n",
    "\n",
    "init()메소드에 인자로 count와 step을 받고 step을 1로 초기화를 해준 뒤 self.count와 self.step에 각각 넣어준다. format을 이용하여 \\str()메소드가 호출되면 step값과 count값을 출력을 시켜준다. \\incr()메소드가 호출되면 count값에 step값을 더해준다. 인스턴스 객체를 직접 호출할 수 있는 \\call()메소드는 자신이 불리면 self.incr()을 반환하여 내부적으로 incr()메소드를 호출한다. 두 개의 산술연산(+,-)에 관한 메소드인 \\add()와 \\sub()메소드를 이용해 인자를 받아서 self.count에 인자에 대한 덧셈 뺄셈을 한다. 그리고 관계연산(>,<,==,!=)에 관한 메소드인 \\lt(), \\eq(), \\ne(), \\gt()메소드는 인자를 받아 self.count와 비교한 결과값을 반환한다."
   ]
  },
  {
   "cell_type": "code",
   "execution_count": 20,
   "metadata": {},
   "outputs": [
    {
     "name": "stdout",
     "output_type": "stream",
     "text": [
      "MySet: {1 ,2 ,3}\n",
      "MySet: {2 ,3 ,4 ,5 ,6 ,7 ,8 ,9}\n"
     ]
    }
   ],
   "source": [
    "class MySet(list):\n",
    "    def __init__(self, l):\n",
    "        for e in l:\n",
    "            self.append(e)\n",
    "        MySet.eliminate_duplicate(self)\n",
    "    \n",
    "    def __str__(self):\n",
    "        result = \"MySet: {\"\n",
    "        for e in self:\n",
    "            result = result + str(e) + \" ,\"\n",
    "        result = result[0:len(result)-2] + \"}\"\n",
    "        return result\n",
    "\n",
    "    @staticmethod    \n",
    "    def eliminate_duplicate(l):\n",
    "        s = []\n",
    "        for e in l:\n",
    "            if e not in s:\n",
    "                s.append(e)\n",
    "        l[:] = []\n",
    "        for e in s:\n",
    "            l.append(e)\n",
    "\n",
    "    \n",
    "if __name__ == \"__main__\":\n",
    "    s = MySet([1, 2, 2, 3])\n",
    "    print(s)\n",
    "    t = MySet([2, 3, 4, 5, 6, 7, 8, 8, 8, 8, 8, 9])\n",
    "    print(t)"
   ]
  },
  {
   "cell_type": "markdown",
   "metadata": {},
   "source": [
    "[4번 문제]\n",
    "다음은 내장 자료형 list를 서브클래싱하여 만든 MySet 클래스 정의 내용이다. 다음 클래스 정의에서 init(), \\str()(), elimicate_duplicate()의 세 개의 메소드 코드 내용을 자신이 다른 사람에게 가르친다고 생각하며 설명해보시오.\n",
    "\n",
    "MySet클래스부터 보자\n",
    "<br/> init() 메소드는 먼저 객체가 생성될 때 자동으로 불리는 메소드로 인자 l을 받는다. 그 후 l의 모든 요소들을 for문을 이용하여 self인자에 넣어준다. 집합의 자료형은 중복된 요소가 없어야하므로 eliminate_duplicate()메소드를 사용하여 중복을 방지해준다.\n",
    "<br/> \\str() 메소드는 print 예약어나 str() 내장함수 호출에 대응되는 메소드로 호출되면 result변수에 \"MySet: {\"을 넣어준다. self의 모든 요소들을 result에 \" ,\"와 함께 추가를 시켜 넣어준다. 이 때 마지막에 추가되는 \" ,\"을 방지하기 위해 슬라이싱을 이용하여 뒤의 두개를 빼주고 \"}\"를 추가하여 문장을 완성시킨다. 완성시킨 문장을 반환하면 집합 자료형과 같이 출력된다.\n",
    "<br/> eliminate_duplicate() 메소드는 정적 메소드로 장식자인 @staticmethod를 활용한다. 정적메소드는 인스턴스 객체와 무관하게 클래스 이름 공간에 존재하는 메소드인데 클래스 이름을 이용하여 직접 호출할 수 있는 메소드이다. 이 메소드는 인자 l를 받아 빈 리스트 s를 만든 후 l의 모든 요소들을 중복되는 요소없이 s에 추가해준다. 전부 추가되면 l를 빈 리스트로 만들어서 모든 요소를 없앤 후, s에 저장해두었던 요소들을 l에 모두 넣어 l에 중복된 요소를 방지한다."
   ]
  },
  {
   "cell_type": "code",
   "execution_count": 21,
   "metadata": {},
   "outputs": [
    {
     "name": "stdout",
     "output_type": "stream",
     "text": [
      "MySet: {1 ,2 ,3}\n",
      "MySet: {2 ,3 ,4 ,5 ,6 ,7 ,8 ,9}\n",
      "MySet: {1 ,2 ,3 ,4 ,5 ,6 ,7 ,8 ,9}\n",
      "MySet: {2 ,3}\n",
      "MySet: {1 ,2}\n"
     ]
    }
   ],
   "source": [
    "class MySet(list):\n",
    "    def __init__(self, l):\n",
    "        for e in l:\n",
    "            self.append(e)\n",
    "        MySet.eliminate_duplicate(self)\n",
    "    \n",
    "    def __str__(self):\n",
    "        result = \"MySet: {\"\n",
    "        for e in self:\n",
    "            result = result + str(e) + \" ,\"\n",
    "        result = result[0:len(result)-2] + \"}\"\n",
    "        return result\n",
    "\n",
    "    @staticmethod    \n",
    "    def eliminate_duplicate(l):\n",
    "        s = []\n",
    "        for e in l:\n",
    "            if e not in s:\n",
    "                s.append(e)\n",
    "        l[:] = []\n",
    "        for e in s:\n",
    "            l.append(e)\n",
    "            \n",
    "    def __sum__(self, other):\n",
    "        k = []\n",
    "        for i in self:\n",
    "            k.append(i)\n",
    "        for i in other:\n",
    "            if i not in k:\n",
    "                k.append(i)\n",
    "        return MySet(k)\n",
    "\n",
    "    \n",
    "    def __both__(self, other):\n",
    "        k = []\n",
    "        for i in self:\n",
    "            if i in other:\n",
    "                k.append(i)\n",
    "        return MySet(k)\n",
    "   \n",
    "    def __sub__(self, other):\n",
    "        k = []\n",
    "        for i in self:\n",
    "            k.append(i)\n",
    "        for i in other:\n",
    "            if i in self:\n",
    "                k.remove(i)\n",
    "        return MySet(k)\n",
    "    \n",
    "if __name__ == \"__main__\":\n",
    "    s = MySet([1, 2, 2, 3])\n",
    "    print(s)\n",
    "    t = MySet([2, 3, 4, 5, 6, 7, 8, 8, 8, 8, 8, 9])\n",
    "    print(t)\n",
    "    u = s|t\n",
    "    print(u)\n",
    "    u = s&t\n",
    "    print(u)\n",
    "    s = MySet([1,2,3])\n",
    "    t = MySet([3,4,5])\n",
    "    u = s - t\n",
    "    print(u)"
   ]
  },
  {
   "cell_type": "markdown",
   "metadata": {},
   "source": [
    "[5번 문제]\n",
    "4번 문제에 정의된 MySet 클래스에 메소드를 추가하여 다음 각 요구사항 모두를 만족시키는 코딩을 제시하시오\n",
    "\n",
    "1.합집합에 관한 메소드 sum()\n",
    "<br/>빈 리스트 k에 self의 요소들을 모두 넣어준다. 만약 인자 other의 요소중에 k안에 포함이 되어있지 않은 요소가있다면, 그 요소를 넣어주고 리스트 k의 객체를 만들어서 반환한다.\n",
    "\n",
    "2.교집합에 관한 메소드 \\both()\n",
    "<br/>빈 리스트 k에 self의 요소들을 모두 넣어준다.모든 요소에 대하여 요소가 인자 other안에 포함이 되어있으면 그 요소를 넣어주고 리스트 k의 객체를 만들어서 반환한다.\n",
    "\n",
    "3.차집합에 대한 메소드 \\sub()\n",
    "<br/>빈 리스트 k에 self의 요소들을 모두 넣어준다. 인자 other의 모든 요소에 대하여 요소가 k안에 포함이 되어있으면 k에서 그 요소를 제거하고 리스트 k의 객체를 만들어서 반환한다."
   ]
  },
  {
   "cell_type": "markdown",
   "metadata": {},
   "source": [
    "[6번 문제]\n",
    "5번 문제에서 정의한 MySet 클래스에 대해 다음 예제를 수행하면 오류없이 올바르게 동작하는 것을 확인할 수 있다. 다음 예제 내에 있는 len(), bool() 내장함수와 in 키워드 사용 예제가 별다른 메소드 정의를 하지 않았는 데도 올바르게 수행되는 이유를 설명하시오.\n",
    "\n",
    "내장 함수와 키워드는 따로 메소드 정의를 하지 않아도 파이썬에서 기본적으로 제공되어있는 메소드가 불리게 되어 올바르게 수행이 된다."
   ]
  },
  {
   "cell_type": "markdown",
   "metadata": {},
   "source": [
    "느낀점 : 한 학기동안 양질의 문제를 내주셔서 감사드리고 시험까지 열심히 공부하겠습니다!"
   ]
  },
  {
   "cell_type": "code",
   "execution_count": null,
   "metadata": {},
   "outputs": [],
   "source": []
  }
 ],
 "metadata": {
  "kernelspec": {
   "display_name": "Python 3",
   "language": "python",
   "name": "python3"
  },
  "language_info": {
   "codemirror_mode": {
    "name": "ipython",
    "version": 3
   },
   "file_extension": ".py",
   "mimetype": "text/x-python",
   "name": "python",
   "nbconvert_exporter": "python",
   "pygments_lexer": "ipython3",
   "version": "3.6.5"
  }
 },
 "nbformat": 4,
 "nbformat_minor": 2
}
